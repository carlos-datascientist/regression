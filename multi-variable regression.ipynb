{
    "nbformat_minor": 1, 
    "cells": [
        {
            "execution_count": 1, 
            "cell_type": "code", 
            "metadata": {}, 
            "outputs": [], 
            "source": "import matplotlib.pyplot as plt\nimport pandas as pd\nimport pylab as pl\nimport numpy as np\n%matplotlib inline"
        }, 
        {
            "source": "### Understanding the data\nFuelConsumption.csv: Contains model-specific fuel consumption ratings and estimated carbon dioxide emissions for new light-duty vehicles for retail sale in Canada. Dataset source\n\nMODELYEAR e.g. 2014 MAKE e.g. Acura MODEL e.g. ILX VEHICLE CLASS e.g. SUV ENGINE SIZE e.g. 4.7 CYLINDERS e.g 6 TRANSMISSION e.g. A6 FUELTYPE e.g. z FUEL CONSUMPTION in CITY(L/100 km) e.g. 9.9 FUEL CONSUMPTION in HWY (L/100 km) e.g. 8.9 FUEL CONSUMPTION COMB (L/100 km) e.g. 9.2 CO2 EMISSIONS (g/km) e.g. 182 --> low --> 0", 
            "cell_type": "markdown", 
            "metadata": {}
        }, 
        {
            "execution_count": 2, 
            "cell_type": "code", 
            "metadata": {}, 
            "outputs": [
                {
                    "execution_count": 2, 
                    "metadata": {}, 
                    "data": {
                        "text/html": "<div>\n<style scoped>\n    .dataframe tbody tr th:only-of-type {\n        vertical-align: middle;\n    }\n\n    .dataframe tbody tr th {\n        vertical-align: top;\n    }\n\n    .dataframe thead th {\n        text-align: right;\n    }\n</style>\n<table border=\"1\" class=\"dataframe\">\n  <thead>\n    <tr style=\"text-align: right;\">\n      <th></th>\n      <th>MODELYEAR</th>\n      <th>MAKE</th>\n      <th>MODEL</th>\n      <th>VEHICLECLASS</th>\n      <th>ENGINESIZE</th>\n      <th>CYLINDERS</th>\n      <th>TRANSMISSION</th>\n      <th>FUELTYPE</th>\n      <th>FUELCONSUMPTION_CITY</th>\n      <th>FUELCONSUMPTION_HWY</th>\n      <th>FUELCONSUMPTION_COMB</th>\n      <th>FUELCONSUMPTION_COMB_MPG</th>\n      <th>CO2EMISSIONS</th>\n    </tr>\n  </thead>\n  <tbody>\n    <tr>\n      <th>0</th>\n      <td>2014</td>\n      <td>ACURA</td>\n      <td>ILX</td>\n      <td>COMPACT</td>\n      <td>2.0</td>\n      <td>4</td>\n      <td>AS5</td>\n      <td>Z</td>\n      <td>9.9</td>\n      <td>6.7</td>\n      <td>8.5</td>\n      <td>33</td>\n      <td>196</td>\n    </tr>\n    <tr>\n      <th>1</th>\n      <td>2014</td>\n      <td>ACURA</td>\n      <td>ILX</td>\n      <td>COMPACT</td>\n      <td>2.4</td>\n      <td>4</td>\n      <td>M6</td>\n      <td>Z</td>\n      <td>11.2</td>\n      <td>7.7</td>\n      <td>9.6</td>\n      <td>29</td>\n      <td>221</td>\n    </tr>\n    <tr>\n      <th>2</th>\n      <td>2014</td>\n      <td>ACURA</td>\n      <td>ILX HYBRID</td>\n      <td>COMPACT</td>\n      <td>1.5</td>\n      <td>4</td>\n      <td>AV7</td>\n      <td>Z</td>\n      <td>6.0</td>\n      <td>5.8</td>\n      <td>5.9</td>\n      <td>48</td>\n      <td>136</td>\n    </tr>\n    <tr>\n      <th>3</th>\n      <td>2014</td>\n      <td>ACURA</td>\n      <td>MDX 4WD</td>\n      <td>SUV - SMALL</td>\n      <td>3.5</td>\n      <td>6</td>\n      <td>AS6</td>\n      <td>Z</td>\n      <td>12.7</td>\n      <td>9.1</td>\n      <td>11.1</td>\n      <td>25</td>\n      <td>255</td>\n    </tr>\n    <tr>\n      <th>4</th>\n      <td>2014</td>\n      <td>ACURA</td>\n      <td>RDX AWD</td>\n      <td>SUV - SMALL</td>\n      <td>3.5</td>\n      <td>6</td>\n      <td>AS6</td>\n      <td>Z</td>\n      <td>12.1</td>\n      <td>8.7</td>\n      <td>10.6</td>\n      <td>27</td>\n      <td>244</td>\n    </tr>\n  </tbody>\n</table>\n</div>", 
                        "text/plain": "   MODELYEAR   MAKE       MODEL VEHICLECLASS  ENGINESIZE  CYLINDERS  \\\n0       2014  ACURA         ILX      COMPACT         2.0          4   \n1       2014  ACURA         ILX      COMPACT         2.4          4   \n2       2014  ACURA  ILX HYBRID      COMPACT         1.5          4   \n3       2014  ACURA     MDX 4WD  SUV - SMALL         3.5          6   \n4       2014  ACURA     RDX AWD  SUV - SMALL         3.5          6   \n\n  TRANSMISSION FUELTYPE  FUELCONSUMPTION_CITY  FUELCONSUMPTION_HWY  \\\n0          AS5        Z                   9.9                  6.7   \n1           M6        Z                  11.2                  7.7   \n2          AV7        Z                   6.0                  5.8   \n3          AS6        Z                  12.7                  9.1   \n4          AS6        Z                  12.1                  8.7   \n\n   FUELCONSUMPTION_COMB  FUELCONSUMPTION_COMB_MPG  CO2EMISSIONS  \n0                   8.5                        33           196  \n1                   9.6                        29           221  \n2                   5.9                        48           136  \n3                  11.1                        25           255  \n4                  10.6                        27           244  "
                    }, 
                    "output_type": "execute_result"
                }
            ], 
            "source": "# The code was removed by Watson Studio for sharing."
        }, 
        {
            "execution_count": 3, 
            "cell_type": "code", 
            "metadata": {}, 
            "outputs": [
                {
                    "output_type": "display_data", 
                    "data": {
                        "image/png": "[encoded data removed]", 
                        "text/plain": "<Figure size 432x288 with 1 Axes>"
                    }, 
                    "metadata": {
                        "needs_background": "light"
                    }
                }
            ], 
            "source": "# Plot emissions with respect to engine size to see relationship\nplt.scatter(df_fuel.ENGINESIZE, df_fuel.CO2EMISSIONS,  color='blue')\nplt.xlabel(\"Engine size\")\nplt.ylabel(\"Emission\")\nplt.show()"
        }, 
        {
            "execution_count": 4, 
            "cell_type": "code", 
            "metadata": {}, 
            "outputs": [], 
            "source": "#Split data into training and testing datasets\nmsk = np.random.rand(len(df_fuel)) < 0.8\ntrain = df_fuel[msk]\ntest = df_fuel[~msk]"
        }, 
        {
            "execution_count": 5, 
            "cell_type": "code", 
            "metadata": {}, 
            "outputs": [
                {
                    "output_type": "display_data", 
                    "data": {
                        "image/png": "[encoded data removed]", 
                        "text/plain": "<Figure size 432x288 with 1 Axes>"
                    }, 
                    "metadata": {
                        "needs_background": "light"
                    }
                }
            ], 
            "source": "# Training data distribution\nplt.scatter(train.ENGINESIZE, train.CO2EMISSIONS,  color='blue')\nplt.xlabel(\"Engine size\")\nplt.ylabel(\"Emission\")\nplt.show()"
        }, 
        {
            "execution_count": 6, 
            "cell_type": "code", 
            "metadata": {}, 
            "outputs": [
                {
                    "output_type": "display_data", 
                    "data": {
                        "image/png": "[encoded data removed]", 
                        "text/plain": "<Figure size 432x288 with 1 Axes>"
                    }, 
                    "metadata": {
                        "needs_background": "light"
                    }
                }
            ], 
            "source": "# Testing data distribution\nplt.scatter(test.ENGINESIZE, test.CO2EMISSIONS,  color='blue')\nplt.xlabel(\"Engine size\")\nplt.ylabel(\"Emission\")\nplt.show()"
        }, 
        {
            "source": "## Model the data", 
            "cell_type": "markdown", 
            "metadata": {}
        }, 
        {
            "execution_count": 7, 
            "cell_type": "code", 
            "metadata": {}, 
            "outputs": [
                {
                    "output_type": "stream", 
                    "name": "stdout", 
                    "text": "Coefficients:  [[11.00354096  7.74346444  9.31186917]]\n"
                }
            ], 
            "source": "from sklearn import linear_model\nregr = linear_model.LinearRegression()\nX_train = np.asanyarray(train[['ENGINESIZE','CYLINDERS','FUELCONSUMPTION_COMB']])\ny_train = np.asanyarray(train[['CO2EMISSIONS']])\nregr.fit (X_train, y_train)\n# The coefficients\nprint ('Coefficients: ', regr.coef_)"
        }, 
        {
            "source": "## Algorithm Definition\nAs mentioned before, Coefficient and Intercept , are the parameters of the fit line. Given that it is a multiple linear regression, with 3 parameters, and knowing that the parameters are the intercept and coefficients of hyperplane, sklearn can estimate them from our data. Scikit-learn uses plain Ordinary Least Squares method to solve this problem.\n\nOrdinary Least Squares (OLS) OLS is a method for estimating the unknown parameters in a linear regression model. OLS chooses the parameters of a linear function of a set of explanatory variables by minimizing the sum of the squares of the differences between the target dependent variable and those predicted by the linear function. In other words, it tries to minimizes the sum of squared errors (SSE) or mean squared error (MSE) between the target variable (y) and our predicted output ( \ud835\udc66\u0302 ) over all samples in the dataset.\n\nOLS can find the best parameters using of the following methods: - Solving the model parameters analytically using closed-form equations - Using an optimization algorithm (Gradient Descent, Stochastic Gradient Descent, Newton\u2019s Method, etc.)", 
            "cell_type": "markdown", 
            "metadata": {}
        }, 
        {
            "source": "## Prediction", 
            "cell_type": "markdown", 
            "metadata": {}
        }, 
        {
            "execution_count": 8, 
            "cell_type": "code", 
            "metadata": {}, 
            "outputs": [
                {
                    "output_type": "stream", 
                    "name": "stdout", 
                    "text": "Residual sum of squares: 512.78\nVariance score: 0.87\n"
                }
            ], 
            "source": "y_hat= regr.predict(test[['ENGINESIZE','CYLINDERS','FUELCONSUMPTION_COMB']])\nX_test = np.asanyarray(test[['ENGINESIZE','CYLINDERS','FUELCONSUMPTION_COMB']])\ny_test = np.asanyarray(test[['CO2EMISSIONS']])\nprint(\"Residual sum of squares: %.2f\"\n      % np.mean((y_hat - y_test) ** 2))\n\n# Explained variance score: 1 is perfect prediction\nprint('Variance score: %.2f' % regr.score(X_test, y_test))"
        }, 
        {
            "execution_count": 9, 
            "cell_type": "code", 
            "metadata": {}, 
            "outputs": [
                {
                    "output_type": "stream", 
                    "name": "stdout", 
                    "text": "Actual=[196], Predicted=[198.56855012]\nActual=[230], Predicted=[244.5285942]\nActual=[232], Predicted=[245.45978111]\nActual=[359], Predicted=[369.54434647]\nActual=[230], Predicted=[212.53635387]\nActual=[214], Predicted=[206.01804546]\nActual=[230], Predicted=[212.53635387]\nActual=[224], Predicted=[223.19664613]\nActual=[361], Predicted=[374.87694978]\nActual=[239], Predicted=[216.26110154]\nActual=[258], Predicted=[250.20106672]\nActual=[407], Predicted=[339.41939434]\nActual=[290], Predicted=[289.72815339]\nActual=[262], Predicted=[252.06344055]\nActual=[267], Predicted=[253.92581438]\nActual=[281], Predicted=[286.00340572]\nActual=[209], Predicted=[204.15567162]\nActual=[380], Predicted=[379.02538282]\nActual=[200], Predicted=[200.43092396]\nActual=[209], Predicted=[204.15567162]\nActual=[209], Predicted=[204.15567162]\nActual=[209], Predicted=[204.15567162]\nActual=[281], Predicted=[290.40482211]\nActual=[292], Predicted=[295.06075669]\nActual=[281], Predicted=[290.40482211]\nActual=[191], Predicted=[223.19664613]\nActual=[292], Predicted=[295.06075669]\nActual=[317], Predicted=[305.30381278]\nActual=[253], Predicted=[248.33869288]\nActual=[370], Predicted=[326.72111186]\nActual=[278], Predicted=[258.58174897]\nActual=[221], Predicted=[208.81160621]\nActual=[251], Predicted=[254.00963054]\nActual=[232], Predicted=[213.46754079]\nActual=[260], Predicted=[257.73437821]\nActual=[382], Predicted=[351.18342018]\nActual=[338], Predicted=[333.49086876]\nActual=[322], Predicted=[383.77496227]\nActual=[283], Predicted=[267.04624738]\nActual=[290], Predicted=[269.83980813]\nActual=[242], Predicted=[250.28488288]\nActual=[209], Predicted=[208.55708801]\nActual=[276], Predicted=[264.25268663]\nActual=[272], Predicted=[310.81203247]\nActual=[347], Predicted=[300.82195972]\nActual=[366], Predicted=[334.7619249]\nActual=[344], Predicted=[386.90839224]\nActual=[435], Predicted=[370.40001107]\nActual=[200], Predicted=[204.83234034]\nActual=[292], Predicted=[304.96394356]\nActual=[329], Predicted=[329.7661211]\nActual=[191], Predicted=[194.5054681]\nActual=[159], Predicted=[174.86672668]\nActual=[159], Predicted=[174.86672668]\nActual=[317], Predicted=[315.20699964]\nActual=[186], Predicted=[188.24167788]\nActual=[232], Predicted=[217.86895718]\nActual=[246], Predicted=[223.45607868]\nActual=[242], Predicted=[250.28488288]\nActual=[230], Predicted=[286.60117263]\nActual=[230], Predicted=[216.93777026]\nActual=[237], Predicted=[248.42250904]\nActual=[269], Predicted=[308.94965863]\nActual=[294], Predicted=[310.29654686]\nActual=[237], Predicted=[248.42250904]\nActual=[212], Predicted=[209.48827493]\nActual=[182], Predicted=[186.37930404]\nActual=[179], Predicted=[185.44811713]\nActual=[396], Predicted=[347.96770891]\nActual=[368], Predicted=[393.17371731]\nActual=[264], Predicted=[258.49639795]\nActual=[221], Predicted=[208.81160621]\nActual=[216], Predicted=[212.45100286]\nActual=[267], Predicted=[306.91811762]\nActual=[294], Predicted=[270.60182787]\nActual=[317], Predicted=[279.91369703]\nActual=[336], Predicted=[319.35543269]\nActual=[184], Predicted=[189.51119915]\nActual=[278], Predicted=[264.08351945]\nActual=[179], Predicted=[192.05024171]\nActual=[165], Predicted=[215.32991462]\nActual=[170], Predicted=[218.12347538]\nActual=[207], Predicted=[203.22448471]\nActual=[216], Predicted=[206.94923237]\nActual=[244], Predicted=[252.31642389]\nActual=[209], Predicted=[204.15567162]\nActual=[258], Predicted=[255.7028372]\nActual=[297], Predicted=[272.63336888]\nActual=[334], Predicted=[381.32127074]\nActual=[380], Predicted=[340.3490464]\nActual=[362], Predicted=[397.15144832]\nActual=[362], Predicted=[397.15144832]\nActual=[414], Predicted=[348.81507967]\nActual=[413], Predicted=[434.65190833]\nActual=[292], Predicted=[304.96394356]\nActual=[324], Predicted=[327.90374726]\nActual=[110], Predicted=[164.1146342]\nActual=[209], Predicted=[208.55708801]\nActual=[159], Predicted=[178.16778897]\nActual=[177], Predicted=[186.7176384]\nActual=[196], Predicted=[198.56855012]\nActual=[145], Predicted=[182.48385434]\nActual=[196], Predicted=[194.16713374]\nActual=[265], Predicted=[260.69710614]\nActual=[255], Predicted=[256.97235847]\nActual=[294], Predicted=[309.19619277]\nActual=[175], Predicted=[222.18010819]\nActual=[271], Predicted=[263.49066689]\nActual=[244], Predicted=[250.1157157]\nActual=[237], Predicted=[241.82038446]\nActual=[306], Predicted=[307.25000277]\nActual=[306], Predicted=[307.25000277]\nActual=[306], Predicted=[307.25000277]\nActual=[315], Predicted=[310.97475044]\nActual=[253], Predicted=[250.53940107]\nActual=[267], Predicted=[238.0956368]\nActual=[250], Predicted=[297.77541563]\nActual=[225], Predicted=[210.67398004]\nActual=[209], Predicted=[204.15567162]\nActual=[216], Predicted=[211.35064876]\nActual=[255], Predicted=[227.18082634]\nActual=[308], Predicted=[277.28930346]\nActual=[308], Predicted=[277.28930346]\nActual=[251], Predicted=[250.70856825]\nActual=[193], Predicted=[197.63736321]\nActual=[276], Predicted=[263.15233253]\nActual=[262], Predicted=[255.36450284]\nActual=[207], Predicted=[198.82306832]\nActual=[202], Predicted=[201.36211087]\nActual=[260], Predicted=[229.04320018]\nActual=[400], Predicted=[363.11630343]\nActual=[274], Predicted=[230.22890529]\nActual=[285], Predicted=[261.37530972]\nActual=[342], Predicted=[382.67614303]\nActual=[283], Predicted=[293.53671722]\nActual=[207], Predicted=[203.22448471]\nActual=[347], Predicted=[320.71030498]\nActual=[205], Predicted=[207.79506827]\nActual=[283], Predicted=[268.14660147]\nActual=[168], Predicted=[192.8960776]\nActual=[225], Predicted=[216.17575052]\nActual=[168], Predicted=[192.8960776]\nActual=[221], Predicted=[208.81160621]\nActual=[184], Predicted=[193.91261554]\nActual=[242], Predicted=[249.18452878]\nActual=[242], Predicted=[249.18452878]\nActual=[308], Predicted=[313.68296017]\nActual=[264], Predicted=[287.18757598]\nActual=[301], Predicted=[310.88939942]\nActual=[230], Predicted=[244.5285942]\nActual=[239], Predicted=[248.25334186]\nActual=[242], Predicted=[249.18452878]\nActual=[363], Predicted=[336.03144617]\nActual=[260], Predicted=[256.63402411]\nActual=[256], Predicted=[300.3998092]\nActual=[278], Predicted=[241.82038446]\nActual=[200], Predicted=[196.02950757]\nActual=[191], Predicted=[192.3047599]\nActual=[184], Predicted=[189.51119915]\nActual=[191], Predicted=[192.3047599]\nActual=[184], Predicted=[189.51119915]\nActual=[191], Predicted=[192.3047599]\nActual=[184], Predicted=[189.51119915]\nActual=[207], Predicted=[198.82306832]\nActual=[191], Predicted=[192.3047599]\nActual=[288], Predicted=[235.81602679]\nActual=[267], Predicted=[227.43534454]\nActual=[198], Predicted=[199.49973704]\nActual=[138], Predicted=[158.74257999]\nActual=[260], Predicted=[230.14355427]\nActual=[292], Predicted=[275.17241143]\nActual=[301], Predicted=[278.8971591]\nActual=[186], Predicted=[190.44238607]\nActual=[244], Predicted=[250.1157157]\nActual=[198], Predicted=[205.00150752]\nActual=[359], Predicted=[335.26942644]\nActual=[398], Predicted=[351.09960402]\nActual=[253], Predicted=[252.74010927]\nActual=[253], Predicted=[257.14152565]\nActual=[322], Predicted=[285.07713316]\nActual=[274], Predicted=[265.5222079]\nActual=[212], Predicted=[228.27626609]\nActual=[276], Predicted=[264.25268663]\nActual=[313], Predicted=[279.1516773]\nActual=[251], Predicted=[247.40750596]\nActual=[228], Predicted=[234.79457451]\nActual=[255], Predicted=[255.87200438]\nActual=[264], Predicted=[252.99462747]\nActual=[294], Predicted=[300.39335999]\nActual=[340], Predicted=[328.9202852]\nActual=[324], Predicted=[322.40197678]\nActual=[147], Predicted=[160.26661947]\nActual=[389], Predicted=[393.67169993]\nActual=[179], Predicted=[192.05024171]\nActual=[288], Predicted=[241.31779728]\nActual=[267], Predicted=[260.52793896]\nActual=[207], Predicted=[208.72625519]\nActual=[196], Predicted=[198.56855012]\nActual=[221], Predicted=[240.80384653]\nActual=[138], Predicted=[180.79064769]\nActual=[159], Predicted=[181.46885126]\nActual=[297], Predicted=[277.03478526]\nActual=[108], Predicted=[157.6816768]\nActual=[218], Predicted=[213.38218977]\nActual=[322], Predicted=[287.27784135]\nActual=[230], Predicted=[220.23883255]\nActual=[168], Predicted=[181.89253664]\nActual=[225], Predicted=[223.91921496]\nActual=[221], Predicted=[222.05684113]\nActual=[218], Predicted=[221.12565421]\nActual=[212], Predicted=[205.08685854]\nActual=[198], Predicted=[197.29902885]\nActual=[225], Predicted=[223.91921496]\nActual=[248], Predicted=[253.07844363]\nActual=[281], Predicted=[242.75157138]\nActual=[271], Predicted=[255.78818822]\n"
                }
            ], 
            "source": "# Show actual vs predicted values\n\nfor i in range(len(y_hat)):\n     print(\"Actual=%s, Predicted=%s\" % (y_test[i], y_hat[i]))"
        }, 
        {
            "execution_count": 11, 
            "cell_type": "code", 
            "metadata": {}, 
            "outputs": [
                {
                    "execution_count": 11, 
                    "metadata": {}, 
                    "data": {
                        "text/html": "<div>\n<style scoped>\n    .dataframe tbody tr th:only-of-type {\n        vertical-align: middle;\n    }\n\n    .dataframe tbody tr th {\n        vertical-align: top;\n    }\n\n    .dataframe thead th {\n        text-align: right;\n    }\n</style>\n<table border=\"1\" class=\"dataframe\">\n  <thead>\n    <tr style=\"text-align: right;\">\n      <th></th>\n      <th>MODELYEAR</th>\n      <th>MAKE</th>\n      <th>MODEL</th>\n      <th>VEHICLECLASS</th>\n      <th>ENGINESIZE</th>\n      <th>CYLINDERS</th>\n      <th>TRANSMISSION</th>\n      <th>FUELTYPE</th>\n      <th>FUELCONSUMPTION_CITY</th>\n      <th>FUELCONSUMPTION_HWY</th>\n      <th>FUELCONSUMPTION_COMB</th>\n      <th>FUELCONSUMPTION_COMB_MPG</th>\n      <th>CO2EMISSIONS</th>\n      <th>PREDICTION</th>\n    </tr>\n  </thead>\n  <tbody>\n    <tr>\n      <th>0</th>\n      <td>2014</td>\n      <td>ACURA</td>\n      <td>ILX</td>\n      <td>COMPACT</td>\n      <td>2.0</td>\n      <td>4</td>\n      <td>AS5</td>\n      <td>Z</td>\n      <td>9.9</td>\n      <td>6.7</td>\n      <td>8.5</td>\n      <td>33</td>\n      <td>196</td>\n      <td>198.568550</td>\n    </tr>\n    <tr>\n      <th>1</th>\n      <td>2014</td>\n      <td>ACURA</td>\n      <td>ILX</td>\n      <td>COMPACT</td>\n      <td>2.4</td>\n      <td>4</td>\n      <td>M6</td>\n      <td>Z</td>\n      <td>11.2</td>\n      <td>7.7</td>\n      <td>9.6</td>\n      <td>29</td>\n      <td>221</td>\n      <td>244.528594</td>\n    </tr>\n    <tr>\n      <th>2</th>\n      <td>2014</td>\n      <td>ACURA</td>\n      <td>ILX HYBRID</td>\n      <td>COMPACT</td>\n      <td>1.5</td>\n      <td>4</td>\n      <td>AV7</td>\n      <td>Z</td>\n      <td>6.0</td>\n      <td>5.8</td>\n      <td>5.9</td>\n      <td>48</td>\n      <td>136</td>\n      <td>245.459781</td>\n    </tr>\n    <tr>\n      <th>3</th>\n      <td>2014</td>\n      <td>ACURA</td>\n      <td>MDX 4WD</td>\n      <td>SUV - SMALL</td>\n      <td>3.5</td>\n      <td>6</td>\n      <td>AS6</td>\n      <td>Z</td>\n      <td>12.7</td>\n      <td>9.1</td>\n      <td>11.1</td>\n      <td>25</td>\n      <td>255</td>\n      <td>369.544346</td>\n    </tr>\n    <tr>\n      <th>4</th>\n      <td>2014</td>\n      <td>ACURA</td>\n      <td>RDX AWD</td>\n      <td>SUV - SMALL</td>\n      <td>3.5</td>\n      <td>6</td>\n      <td>AS6</td>\n      <td>Z</td>\n      <td>12.1</td>\n      <td>8.7</td>\n      <td>10.6</td>\n      <td>27</td>\n      <td>244</td>\n      <td>212.536354</td>\n    </tr>\n  </tbody>\n</table>\n</div>", 
                        "text/plain": "   MODELYEAR   MAKE       MODEL VEHICLECLASS  ENGINESIZE  CYLINDERS  \\\n0       2014  ACURA         ILX      COMPACT         2.0          4   \n1       2014  ACURA         ILX      COMPACT         2.4          4   \n2       2014  ACURA  ILX HYBRID      COMPACT         1.5          4   \n3       2014  ACURA     MDX 4WD  SUV - SMALL         3.5          6   \n4       2014  ACURA     RDX AWD  SUV - SMALL         3.5          6   \n\n  TRANSMISSION FUELTYPE  FUELCONSUMPTION_CITY  FUELCONSUMPTION_HWY  \\\n0          AS5        Z                   9.9                  6.7   \n1           M6        Z                  11.2                  7.7   \n2          AV7        Z                   6.0                  5.8   \n3          AS6        Z                  12.7                  9.1   \n4          AS6        Z                  12.1                  8.7   \n\n   FUELCONSUMPTION_COMB  FUELCONSUMPTION_COMB_MPG  CO2EMISSIONS  PREDICTION  \n0                   8.5                        33           196  198.568550  \n1                   9.6                        29           221  244.528594  \n2                   5.9                        48           136  245.459781  \n3                  11.1                        25           255  369.544346  \n4                  10.6                        27           244  212.536354  "
                    }, 
                    "output_type": "execute_result"
                }
            ], 
            "source": "# Add predictions to original dataframe\n\ndf_yhat = pd.DataFrame(y_hat)\ndf_yhat.columns  = ['PREDICTION']\nnp.asanyarray(df_yhat[['PREDICTION']])\n\n\ndf_model_output = pd.merge(df_fuel,df_yhat,how = 'left',left_index = True, right_index = True)\ndf_model_output.head()"
        }, 
        {
            "source": "### Evaluate model further", 
            "cell_type": "markdown", 
            "metadata": {}
        }, 
        {
            "execution_count": 12, 
            "cell_type": "code", 
            "metadata": {}, 
            "outputs": [], 
            "source": "from sklearn.metrics import explained_variance_score\nfrom sklearn.metrics import mean_absolute_error\nfrom sklearn.metrics import mean_squared_error\nfrom sklearn.metrics import r2_score\n"
        }, 
        {
            "source": "### Explained variance regression score:\nIf \ud835\udc66\u0302 is the estimated target output, y the corresponding (correct) target output, and Var is Variance, the square of the standard deviation, then the explained variance is estimated as follow:\n\n\ud835\ude8e\ud835\udea1\ud835\ude99\ud835\ude95\ud835\ude8a\ud835\ude92\ud835\ude97\ud835\ude8e\ud835\ude8d\ud835\ude85\ud835\ude8a\ud835\ude9b\ud835\ude92\ud835\ude8a\ud835\ude97\ud835\ude8c\ud835\ude8e(\ud835\udc66,\ud835\udc66\u0302 )=1\u2212\ud835\udc49\ud835\udc4e\ud835\udc5f{\ud835\udc66\u2212\ud835\udc66\u0302 }\ud835\udc49\ud835\udc4e\ud835\udc5f{\ud835\udc66} The best possible score is 1.0, lower values are worse.", 
            "cell_type": "markdown", 
            "metadata": {}
        }, 
        {
            "execution_count": 13, 
            "cell_type": "code", 
            "metadata": {}, 
            "outputs": [
                {
                    "output_type": "stream", 
                    "name": "stdout", 
                    "text": "Variance score: 0.8725\n"
                }
            ], 
            "source": "# Explained Variance Score\nprint('Variance score: %.4f' % explained_variance_score(y_test,y_hat))"
        }, 
        {
            "execution_count": 14, 
            "cell_type": "code", 
            "metadata": {}, 
            "outputs": [
                {
                    "output_type": "stream", 
                    "name": "stdout", 
                    "text": "MAE: 16.2429\n"
                }
            ], 
            "source": "# Mean Absolute Error\nprint('MAE: %.4f' % mean_absolute_error(y_test,y_hat))"
        }, 
        {
            "execution_count": 15, 
            "cell_type": "code", 
            "metadata": {}, 
            "outputs": [
                {
                    "output_type": "stream", 
                    "name": "stdout", 
                    "text": "MSE: 512.7830\n"
                }
            ], 
            "source": "# Mean Squared Error\nprint('MSE: %.4f' % mean_squared_error(y_test,y_hat))"
        }, 
        {
            "execution_count": 16, 
            "cell_type": "code", 
            "metadata": {}, 
            "outputs": [
                {
                    "output_type": "stream", 
                    "name": "stdout", 
                    "text": "RMSE: 22.6447\n"
                }
            ], 
            "source": "# Root Mean Squared Error\nfrom math import sqrt\n\nrmse = sqrt(mean_squared_error(y_test, y_hat))\nprint('RMSE: %.4f' % rmse)"
        }, 
        {
            "execution_count": 17, 
            "cell_type": "code", 
            "metadata": {}, 
            "outputs": [
                {
                    "output_type": "stream", 
                    "name": "stdout", 
                    "text": "R2: 0.8721\n"
                }
            ], 
            "source": "# R2 Score\nprint('R2: %.4f' % r2_score(y_test,y_hat))"
        }, 
        {
            "source": "## Ridge Regression\nRidge regression is a regularized version of Linear regression, meaning a regularization term is added to the cost function. This forces the learning algorithm to not only fit the data but also keep the model weights as small as possible. It is important to note that the regularization term should only be added to the cost function during training; whereas model performance should be done unregularized.", 
            "cell_type": "markdown", 
            "metadata": {}
        }, 
        {
            "execution_count": 28, 
            "cell_type": "code", 
            "metadata": {}, 
            "outputs": [], 
            "source": "# Modify train and test data by adding an additiona feature if necessary\n\nX_train = np.asanyarray(train[['ENGINESIZE','CYLINDERS','FUELCONSUMPTION_COMB']])"
        }, 
        {
            "execution_count": 29, 
            "cell_type": "code", 
            "metadata": {}, 
            "outputs": [
                {
                    "output_type": "stream", 
                    "name": "stdout", 
                    "text": "Coefficients:  [[10.97309328  7.75768097  9.31546136]]\n"
                }
            ], 
            "source": "from sklearn.linear_model import Ridge\n\nridge_reg = Ridge(alpha=1, solver='cholesky')\nridge_reg.fit(X_train,y_train)\n\n# The coefficients\nprint ('Coefficients: ', ridge_reg.coef_)"
        }, 
        {
            "execution_count": 30, 
            "cell_type": "code", 
            "metadata": {}, 
            "outputs": [
                {
                    "execution_count": 30, 
                    "metadata": {}, 
                    "data": {
                        "text/plain": "array([[198.57306254],\n       [244.52125644],\n       [245.45280258],\n       [369.56934975],\n       [212.54625459],\n       [206.02543164],\n       [212.54625459],\n       [223.19842548],\n       [374.8901332 ],\n       [216.27243914],\n       [250.21326344],\n       [339.44683617],\n       [289.74336456],\n       [252.07635571],\n       [253.93944799],\n       [286.01718002],\n       [204.16233936],\n       [379.0505743 ],\n       [200.43615482],\n       [204.16233936],\n       [204.16233936],\n       [204.16233936],\n       [290.40641733],\n       [295.06414801],\n       [290.40641733],\n       [223.19842548],\n       [295.06414801],\n       [305.31115551],\n       [248.35017117],\n       [326.73671665],\n       [258.59717867],\n       [208.82007005],\n       [254.002481  ],\n       [213.47780073],\n       [257.72866554],\n       [351.14601523],\n       [333.44663864],\n       [383.75013   ],\n       [267.04412691],\n       [269.83876532],\n       [250.27629645],\n       [208.55157667],\n       [264.2494885 ],\n       [310.82679532],\n       [300.80858402],\n       [334.74940833],\n       [386.91599196],\n       [370.37695771],\n       [204.82539213],\n       [304.93993196],\n       [329.72045409],\n       [194.51535162],\n       [174.88984974],\n       [174.88984974],\n       [315.18693946],\n       [188.26302203],\n       [217.86703804],\n       [223.45631486],\n       [250.27629645],\n       [286.60659577],\n       [216.9354919 ],\n       [248.41320418],\n       [308.96370304],\n       [310.26071541],\n       [248.41320418],\n       [209.48312281],\n       [186.39992976],\n       [185.46838362],\n       [347.95681743],\n       [393.20801871],\n       [258.49444849],\n       [208.82007005],\n       [212.44352441],\n       [306.93484758],\n       [270.60454826],\n       [279.92000963],\n       [319.34738057],\n       [189.52609455],\n       [264.08372531],\n       [192.05223959],\n       [215.340893  ],\n       [218.13553141],\n       [203.23079323],\n       [206.95697777],\n       [252.30515192],\n       [204.16233936],\n       [255.69981008],\n       [272.63340373],\n       [381.32671514],\n       [340.33868514],\n       [397.16299946],\n       [397.16299946],\n       [348.82533055],\n       [434.65364112],\n       [304.93993196],\n       [327.85736182],\n       [164.1058555 ],\n       [208.55157667],\n       [178.18177772],\n       [186.73145614],\n       [198.57306254],\n       [182.46828486],\n       [194.18382523],\n       [260.68906714],\n       [256.9628826 ],\n       [309.16340608],\n       [222.16414917],\n       [263.48370555],\n       [250.11053326],\n       [241.82934821],\n       [307.2372808 ],\n       [307.2372808 ],\n       [307.2372808 ],\n       [310.96346534],\n       [250.54478982],\n       [238.10316367],\n       [297.78514941],\n       [210.68316232],\n       [204.16233936],\n       [211.34621508],\n       [227.1824994 ],\n       [277.29113441],\n       [277.29113441],\n       [250.71055301],\n       [197.64151641],\n       [263.15217917],\n       [255.3682837 ],\n       [198.84155591],\n       [201.36770095],\n       [229.04559168],\n       [363.14065298],\n       [230.24563118],\n       [261.39181708],\n       [382.69251784],\n       [293.53258212],\n       [203.23079323],\n       [320.71318327],\n       [207.78579373],\n       [268.14143624],\n       [192.88105555],\n       [216.16970896],\n       [192.88105555],\n       [208.82007005],\n       [193.91533186],\n       [249.17898712],\n       [249.17898712],\n       [313.65537357],\n       [287.17752236],\n       [310.86073516],\n       [244.52125644],\n       [248.24744099],\n       [249.17898712],\n       [336.01248084],\n       [256.63135622],\n       [300.41402463],\n       [241.82934821],\n       [196.04691751],\n       [192.32073296],\n       [189.52609455],\n       [192.32073296],\n       [189.52609455],\n       [192.32073296],\n       [189.52609455],\n       [198.84155591],\n       [192.32073296],\n       [235.834908  ],\n       [227.45099277],\n       [199.50460868],\n       [158.74825355],\n       [230.142901  ],\n       [275.15954876],\n       [278.88573331],\n       [190.45764069],\n       [250.11053326],\n       [204.99115532],\n       [335.2466979 ],\n       [351.08298222],\n       [252.73940848],\n       [257.12864579],\n       [285.07502988],\n       [265.51256102],\n       [228.29041273],\n       [264.2494885 ],\n       [279.15422668],\n       [247.41862503],\n       [234.81123568],\n       [255.86557327],\n       [253.00790185],\n       [300.38493146],\n       [328.89163814],\n       [322.37081518],\n       [160.27981943],\n       [393.59682079],\n       [192.05223959],\n       [241.32145464],\n       [260.52330395],\n       [208.71733987],\n       [198.57306254],\n       [240.7950719 ],\n       [180.77095577],\n       [181.47370571],\n       [277.02264104],\n       [157.68776272],\n       [213.37507055],\n       [287.26964854],\n       [220.22741989],\n       [181.90796227],\n       [223.92738992],\n       [222.06429765],\n       [221.13275151],\n       [205.0938855 ],\n       [197.30999003],\n       [223.92738992],\n       [253.07093486],\n       [242.76089435],\n       [255.80254026]])"
                    }, 
                    "output_type": "execute_result"
                }
            ], 
            "source": "# Predict\ny_hat= regr.predict(test[['ENGINESIZE','CYLINDERS','FUELCONSUMPTION_COMB']])\nX_test = np.asanyarray(test[['ENGINESIZE','CYLINDERS','FUELCONSUMPTION_COMB']])\n\nridge_yhat = ridge_reg.predict(X_test)\nridge_yhat"
        }, 
        {
            "execution_count": 31, 
            "cell_type": "code", 
            "metadata": {}, 
            "outputs": [
                {
                    "output_type": "stream", 
                    "name": "stdout", 
                    "text": "Variance score: 0.8725\n"
                }
            ], 
            "source": "# Explained Variance Score\nprint('Variance score: %.4f' % explained_variance_score(y_test,ridge_yhat))"
        }, 
        {
            "execution_count": 32, 
            "cell_type": "code", 
            "metadata": {}, 
            "outputs": [
                {
                    "output_type": "stream", 
                    "name": "stdout", 
                    "text": "MAE: 16.2420\n"
                }
            ], 
            "source": "# Mean Absolute Error\nprint('MAE: %.4f' % mean_absolute_error(y_test,ridge_yhat))"
        }, 
        {
            "execution_count": 33, 
            "cell_type": "code", 
            "metadata": {}, 
            "outputs": [
                {
                    "output_type": "stream", 
                    "name": "stdout", 
                    "text": "MSE: 512.7731\n"
                }
            ], 
            "source": "# Mean Squared Error\nprint('MSE: %.4f' % mean_squared_error(y_test,ridge_yhat))"
        }, 
        {
            "execution_count": 34, 
            "cell_type": "code", 
            "metadata": {}, 
            "outputs": [
                {
                    "output_type": "stream", 
                    "name": "stdout", 
                    "text": "RMSE: 22.6445\n"
                }
            ], 
            "source": "rmse = sqrt(mean_squared_error(y_test, ridge_yhat))\nprint('RMSE: %.4f' % rmse)"
        }, 
        {
            "execution_count": 35, 
            "cell_type": "code", 
            "metadata": {}, 
            "outputs": [
                {
                    "output_type": "stream", 
                    "name": "stdout", 
                    "text": "R2: 0.8721\n"
                }
            ], 
            "source": "# R2 Score\nprint('R2: %.4f' % r2_score(y_test,ridge_yhat))"
        }, 
        {
            "source": "Ridge regressor performed similarly to original linear model. Perhaps adjusting learining rate will make a difference.", 
            "cell_type": "markdown", 
            "metadata": {}
        }, 
        {
            "source": "## Lasso Regression \nAnother regularized version of Linear regression. It tends to completely eliminate the weights of the least important features (i.e., set them to zero).", 
            "cell_type": "markdown", 
            "metadata": {}
        }, 
        {
            "execution_count": 37, 
            "cell_type": "code", 
            "metadata": {}, 
            "outputs": [
                {
                    "output_type": "stream", 
                    "name": "stdout", 
                    "text": "Coefficients:  [10.86274075  7.77982754  9.33632096]\n"
                }
            ], 
            "source": "from sklearn.linear_model import Lasso\n\nlasso_reg = Lasso(alpha=0.1)\nlasso_reg.fit(X_train,y_train)\n\n# The coefficients\nprint ('Coefficients: ', lasso_reg.coef_)"
        }, 
        {
            "execution_count": 39, 
            "cell_type": "code", 
            "metadata": {}, 
            "outputs": [
                {
                    "execution_count": 39, 
                    "metadata": {}, 
                    "data": {
                        "text/plain": "array([198.61821503, 244.47646269, 245.41009478, 369.50940313,\n       212.62269647, 206.0872718 , 212.62269647, 223.17334668,\n       374.78813153, 216.35722485, 250.24867746, 339.5297077 ,\n       289.74192265, 252.11594165, 253.98320585, 286.00739426,\n       204.2200076 , 378.99836607, 200.48547922, 204.2200076 ,\n       204.2200076 , 204.2200076 , 290.35249056, 295.02065104,\n       290.35249056, 223.17334668, 295.02065104, 305.2906041 ,\n       248.38141327, 326.76414231, 258.65136633, 208.88816808,\n       253.96542563, 213.55632856, 257.69995401, 350.98523615,\n       333.24622632, 383.66235951, 267.03627497, 269.83717126,\n       250.23089724, 208.56510391, 264.23537868, 310.91698349,\n       300.78189219, 334.6733448 , 386.95674218, 370.2862262 ,\n       204.83057552, 304.79711772, 329.51169794, 194.57840269,\n       174.98990889, 174.98990889, 315.06707078, 188.36604219,\n       217.90142487, 223.50321744, 250.23089724, 286.64254899,\n       216.96779277, 248.36363305, 309.04971929, 310.07584612,\n       248.36363305, 209.498736  , 186.498778  , 185.5651459 ,\n       347.89683612, 393.35730509, 258.48094413, 208.88816808,\n       212.45227427, 307.02981312, 270.61816138, 279.95448234,\n       319.27730532, 189.60495825, 264.0827367 , 192.08279036,\n       215.42359276, 218.22448905, 203.28637551, 207.02090389,\n       252.25080341, 204.2200076 , 255.68004784, 272.63806755,\n       381.3549496 , 340.27513737, 397.22669523, 397.22669523,\n       348.84824844, 434.70684083, 304.79711772, 327.64443374,\n       164.07382747, 208.56510391, 178.24873111, 186.80406196,\n       198.61821503, 182.42340522, 194.27311873, 260.65349228,\n       256.91896389, 308.98957204, 222.06929238, 263.45438856,\n       250.07825526, 241.8459886 , 307.14008807, 307.14008807,\n       307.14008807, 310.87461646, 250.55396142, 238.11146021,\n       297.84613414, 210.75543228, 204.2200076 , 211.36600019,\n       227.23774583, 277.30622803, 277.30622803, 250.7066034 ,\n       197.68458293, 263.14910461, 255.37476388, 198.94127921,\n       201.41911132, 229.10501002, 363.15120725, 230.36170629,\n       261.45226261, 382.76428785, 293.45867081, 203.28637551,\n       320.68664358, 207.78411379, 268.12254905, 192.84600025,\n       216.18680265, 192.84600025, 208.88816808, 193.95005455,\n       249.14462317, 249.14462317, 313.50509054, 287.07588812,\n       310.70419426, 244.47646269, 248.21099107, 249.14462317,\n       335.91226085, 256.61367993, 300.49438845, 241.8459886 ,\n       196.14038292, 192.40585453, 189.60495825, 192.40585453,\n       189.60495825, 192.40585453, 189.60495825, 198.94127921,\n       192.40585453, 235.96349887, 227.56081001, 199.55184712,\n       158.80739248, 230.19128409, 275.11589966, 278.85042804,\n       190.53859034, 250.07825526, 204.9832175 , 335.13127073,\n       351.00301637, 252.72650957, 257.07160587, 285.08056875,\n       265.47429474, 228.31721331, 264.23537868, 279.17349222,\n       247.44778117, 234.85263799, 255.83268982, 253.04957375,\n       300.29937944, 328.74848804, 322.21306337, 160.36937271,\n       393.24381718, 192.08279036, 241.39486925, 260.5008503 ,\n       208.71774588, 198.61821503, 240.7419343 , 180.708783  ,\n       181.50755334, 276.98316385, 157.708825  , 213.38590636,\n       287.2531169 , 220.226615  , 181.9832595 , 223.9666302 ,\n       222.099366  , 221.16573391, 205.1536397 , 197.37929897,\n       223.9666302 , 253.03179353, 242.77962069, 255.85047004])"
                    }, 
                    "output_type": "execute_result"
                }
            ], 
            "source": "# Predict\n\nlasso_yhat = lasso_reg.predict(X_test)\nlasso_yhat"
        }, 
        {
            "execution_count": 40, 
            "cell_type": "code", 
            "metadata": {}, 
            "outputs": [
                {
                    "output_type": "stream", 
                    "name": "stdout", 
                    "text": "Variance score: 0.8725\n"
                }
            ], 
            "source": "# Explained Variance Score\nprint('Variance score: %.4f' % explained_variance_score(y_test,lasso_yhat))"
        }, 
        {
            "execution_count": 41, 
            "cell_type": "code", 
            "metadata": {}, 
            "outputs": [
                {
                    "output_type": "stream", 
                    "name": "stdout", 
                    "text": "MAE: 16.2337\n"
                }
            ], 
            "source": "# Mean Absolute Error\nprint('MAE: %.4f' % mean_absolute_error(y_test,lasso_yhat))"
        }, 
        {
            "execution_count": 42, 
            "cell_type": "code", 
            "metadata": {}, 
            "outputs": [
                {
                    "output_type": "stream", 
                    "name": "stdout", 
                    "text": "MSE: 512.6939\n"
                }
            ], 
            "source": "# Mean Squared Error\nprint('MSE: %.4f' % mean_squared_error(y_test,lasso_yhat))"
        }, 
        {
            "execution_count": 43, 
            "cell_type": "code", 
            "metadata": {}, 
            "outputs": [
                {
                    "output_type": "stream", 
                    "name": "stdout", 
                    "text": "RMSE: 22.6427\n"
                }
            ], 
            "source": "rmse = sqrt(mean_squared_error(y_test, lasso_yhat))\nprint('RMSE: %.4f' % rmse)"
        }, 
        {
            "execution_count": 44, 
            "cell_type": "code", 
            "metadata": {}, 
            "outputs": [
                {
                    "output_type": "stream", 
                    "name": "stdout", 
                    "text": "R2: 0.8721\n"
                }
            ], 
            "source": "# R2 Score\nprint('R2: %.4f' % r2_score(y_test,lasso_yhat))"
        }, 
        {
            "source": "Lasso also performed very similary to Ridge and the original linear model ", 
            "cell_type": "markdown", 
            "metadata": {}
        }
    ], 
    "metadata": {
        "kernelspec": {
            "display_name": "Python 3.6", 
            "name": "python3", 
            "language": "python"
        }, 
        "language_info": {
            "mimetype": "text/x-python", 
            "nbconvert_exporter": "python", 
            "version": "3.6.8", 
            "name": "python", 
            "file_extension": ".py", 
            "pygments_lexer": "ipython3", 
            "codemirror_mode": {
                "version": 3, 
                "name": "ipython"
            }
        }
    }, 
    "nbformat": 4
}